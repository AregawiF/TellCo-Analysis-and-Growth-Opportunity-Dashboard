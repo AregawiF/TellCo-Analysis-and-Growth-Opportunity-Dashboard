{
 "cells": [
  {
   "cell_type": "code",
   "execution_count": 3,
   "metadata": {},
   "outputs": [],
   "source": [
    "import pandas as pd\n"
   ]
  },
  {
   "cell_type": "code",
   "execution_count": 4,
   "metadata": {},
   "outputs": [],
   "source": [
    "df = pd.read_csv('../src/data/user_aggregates.csv')\n"
   ]
  },
  {
   "cell_type": "markdown",
   "metadata": {},
   "source": [
    "Step 1: Data Description and Data Types"
   ]
  },
  {
   "cell_type": "code",
   "execution_count": 5,
   "metadata": {},
   "outputs": [
    {
     "data": {
      "text/html": [
       "<div>\n",
       "<style scoped>\n",
       "    .dataframe tbody tr th:only-of-type {\n",
       "        vertical-align: middle;\n",
       "    }\n",
       "\n",
       "    .dataframe tbody tr th {\n",
       "        vertical-align: top;\n",
       "    }\n",
       "\n",
       "    .dataframe thead th {\n",
       "        text-align: right;\n",
       "    }\n",
       "</style>\n",
       "<table border=\"1\" class=\"dataframe\">\n",
       "  <thead>\n",
       "    <tr style=\"text-align: right;\">\n",
       "      <th></th>\n",
       "      <th>MSISDN/Number</th>\n",
       "      <th>Number of xDR Sessions</th>\n",
       "      <th>Total Session Duration (ms)</th>\n",
       "      <th>Total Download (Bytes)</th>\n",
       "      <th>Total Upload (Bytes)</th>\n",
       "      <th>Total Data Volume (Bytes)</th>\n",
       "      <th>YouTube Download (Bytes)</th>\n",
       "      <th>YouTube Upload (Bytes)</th>\n",
       "      <th>Netflix Download (Bytes)</th>\n",
       "      <th>Netflix Upload (Bytes)</th>\n",
       "      <th>Gaming Download (Bytes)</th>\n",
       "      <th>Gaming Upload (Bytes)</th>\n",
       "      <th>Other Download (Bytes)</th>\n",
       "      <th>Other Upload (Bytes)</th>\n",
       "    </tr>\n",
       "  </thead>\n",
       "  <tbody>\n",
       "    <tr>\n",
       "      <th>0</th>\n",
       "      <td>3.360100e+10</td>\n",
       "      <td>1</td>\n",
       "      <td>116720.0</td>\n",
       "      <td>8.426375e+08</td>\n",
       "      <td>36053108.0</td>\n",
       "      <td>8.786906e+08</td>\n",
       "      <td>14900201.0</td>\n",
       "      <td>6724347.0</td>\n",
       "      <td>10265105.0</td>\n",
       "      <td>16915876.0</td>\n",
       "      <td>8.110911e+08</td>\n",
       "      <td>1367528.0</td>\n",
       "      <td>377096990.0</td>\n",
       "      <td>9473882.0</td>\n",
       "    </tr>\n",
       "    <tr>\n",
       "      <th>1</th>\n",
       "      <td>3.360100e+10</td>\n",
       "      <td>1</td>\n",
       "      <td>181230.0</td>\n",
       "      <td>1.207552e+08</td>\n",
       "      <td>36104459.0</td>\n",
       "      <td>1.568596e+08</td>\n",
       "      <td>5324251.0</td>\n",
       "      <td>7107972.0</td>\n",
       "      <td>770569.0</td>\n",
       "      <td>10451194.0</td>\n",
       "      <td>1.050353e+08</td>\n",
       "      <td>14714780.0</td>\n",
       "      <td>279557701.0</td>\n",
       "      <td>2152370.0</td>\n",
       "    </tr>\n",
       "    <tr>\n",
       "      <th>2</th>\n",
       "      <td>3.360100e+10</td>\n",
       "      <td>1</td>\n",
       "      <td>134969.0</td>\n",
       "      <td>5.566597e+08</td>\n",
       "      <td>39306820.0</td>\n",
       "      <td>5.959665e+08</td>\n",
       "      <td>2137272.0</td>\n",
       "      <td>19196298.0</td>\n",
       "      <td>16525919.0</td>\n",
       "      <td>2827981.0</td>\n",
       "      <td>5.290685e+08</td>\n",
       "      <td>9759228.0</td>\n",
       "      <td>495086501.0</td>\n",
       "      <td>6607171.0</td>\n",
       "    </tr>\n",
       "    <tr>\n",
       "      <th>3</th>\n",
       "      <td>3.360101e+10</td>\n",
       "      <td>1</td>\n",
       "      <td>49878.0</td>\n",
       "      <td>4.019932e+08</td>\n",
       "      <td>20327526.0</td>\n",
       "      <td>4.223207e+08</td>\n",
       "      <td>4393123.0</td>\n",
       "      <td>2584198.0</td>\n",
       "      <td>1157362.0</td>\n",
       "      <td>784730.0</td>\n",
       "      <td>3.880748e+08</td>\n",
       "      <td>3051292.0</td>\n",
       "      <td>25248001.0</td>\n",
       "      <td>10031701.0</td>\n",
       "    </tr>\n",
       "    <tr>\n",
       "      <th>4</th>\n",
       "      <td>3.360101e+10</td>\n",
       "      <td>2</td>\n",
       "      <td>37104.0</td>\n",
       "      <td>1.363130e+09</td>\n",
       "      <td>94280527.0</td>\n",
       "      <td>1.457411e+09</td>\n",
       "      <td>10339971.0</td>\n",
       "      <td>31193031.0</td>\n",
       "      <td>24971647.0</td>\n",
       "      <td>24230077.0</td>\n",
       "      <td>1.308981e+09</td>\n",
       "      <td>5816727.0</td>\n",
       "      <td>777643713.0</td>\n",
       "      <td>27160771.0</td>\n",
       "    </tr>\n",
       "  </tbody>\n",
       "</table>\n",
       "</div>"
      ],
      "text/plain": [
       "   MSISDN/Number  Number of xDR Sessions  Total Session Duration (ms)  \\\n",
       "0   3.360100e+10                       1                     116720.0   \n",
       "1   3.360100e+10                       1                     181230.0   \n",
       "2   3.360100e+10                       1                     134969.0   \n",
       "3   3.360101e+10                       1                      49878.0   \n",
       "4   3.360101e+10                       2                      37104.0   \n",
       "\n",
       "   Total Download (Bytes)  Total Upload (Bytes)  Total Data Volume (Bytes)  \\\n",
       "0            8.426375e+08            36053108.0               8.786906e+08   \n",
       "1            1.207552e+08            36104459.0               1.568596e+08   \n",
       "2            5.566597e+08            39306820.0               5.959665e+08   \n",
       "3            4.019932e+08            20327526.0               4.223207e+08   \n",
       "4            1.363130e+09            94280527.0               1.457411e+09   \n",
       "\n",
       "   YouTube Download (Bytes)  YouTube Upload (Bytes)  Netflix Download (Bytes)  \\\n",
       "0                14900201.0               6724347.0                10265105.0   \n",
       "1                 5324251.0               7107972.0                  770569.0   \n",
       "2                 2137272.0              19196298.0                16525919.0   \n",
       "3                 4393123.0               2584198.0                 1157362.0   \n",
       "4                10339971.0              31193031.0                24971647.0   \n",
       "\n",
       "   Netflix Upload (Bytes)  Gaming Download (Bytes)  Gaming Upload (Bytes)  \\\n",
       "0              16915876.0             8.110911e+08              1367528.0   \n",
       "1              10451194.0             1.050353e+08             14714780.0   \n",
       "2               2827981.0             5.290685e+08              9759228.0   \n",
       "3                784730.0             3.880748e+08              3051292.0   \n",
       "4              24230077.0             1.308981e+09              5816727.0   \n",
       "\n",
       "   Other Download (Bytes)  Other Upload (Bytes)  \n",
       "0             377096990.0             9473882.0  \n",
       "1             279557701.0             2152370.0  \n",
       "2             495086501.0             6607171.0  \n",
       "3              25248001.0            10031701.0  \n",
       "4             777643713.0            27160771.0  "
      ]
     },
     "execution_count": 5,
     "metadata": {},
     "output_type": "execute_result"
    }
   ],
   "source": [
    "df.head()"
   ]
  },
  {
   "cell_type": "code",
   "execution_count": 7,
   "metadata": {},
   "outputs": [
    {
     "name": "stdout",
     "output_type": "stream",
     "text": [
      "<class 'pandas.core.frame.DataFrame'>\n",
      "RangeIndex: 106856 entries, 0 to 106855\n",
      "Data columns (total 14 columns):\n",
      " #   Column                       Non-Null Count   Dtype  \n",
      "---  ------                       --------------   -----  \n",
      " 0   MSISDN/Number                106856 non-null  float64\n",
      " 1   Number of xDR Sessions       106856 non-null  int64  \n",
      " 2   Total Session Duration (ms)  106856 non-null  float64\n",
      " 3   Total Download (Bytes)       106856 non-null  float64\n",
      " 4   Total Upload (Bytes)         106856 non-null  float64\n",
      " 5   Total Data Volume (Bytes)    106856 non-null  float64\n",
      " 6   YouTube Download (Bytes)     106856 non-null  float64\n",
      " 7   YouTube Upload (Bytes)       106856 non-null  float64\n",
      " 8   Netflix Download (Bytes)     106856 non-null  float64\n",
      " 9   Netflix Upload (Bytes)       106856 non-null  float64\n",
      " 10  Gaming Download (Bytes)      106856 non-null  float64\n",
      " 11  Gaming Upload (Bytes)        106856 non-null  float64\n",
      " 12  Other Download (Bytes)       106856 non-null  float64\n",
      " 13  Other Upload (Bytes)         106856 non-null  float64\n",
      "dtypes: float64(13), int64(1)\n",
      "memory usage: 11.4 MB\n",
      "None\n"
     ]
    }
   ],
   "source": [
    "print(df.info())  "
   ]
  },
  {
   "cell_type": "code",
   "execution_count": 8,
   "metadata": {},
   "outputs": [
    {
     "name": "stdout",
     "output_type": "stream",
     "text": [
      "       MSISDN/Number  Number of xDR Sessions  Total Session Duration (ms)  \\\n",
      "count   1.068560e+05           106856.000000                 1.068560e+05   \n",
      "mean    4.511474e+10                1.389777                 1.461672e+05   \n",
      "std     2.889423e+12                0.809863                 1.863587e+05   \n",
      "min     3.360100e+10                0.000000                 7.142000e+03   \n",
      "25%     3.365088e+10                1.000000                 7.130800e+04   \n",
      "50%     3.366365e+10                1.000000                 1.027400e+05   \n",
      "75%     3.368344e+10                2.000000                 1.727990e+05   \n",
      "max     8.823971e+14               18.000000                 1.855375e+07   \n",
      "\n",
      "       Total Download (Bytes)  Total Upload (Bytes)  \\\n",
      "count            1.068560e+05          1.068560e+05   \n",
      "mean             6.336527e+08          5.730942e+07   \n",
      "std              4.645551e+08          3.565765e+07   \n",
      "min              8.827082e+06          2.866892e+06   \n",
      "25%              3.148271e+08          3.639547e+07   \n",
      "50%              5.703677e+08          4.679387e+07   \n",
      "75%              8.073645e+08          6.573199e+07   \n",
      "max              8.156743e+09          7.295774e+08   \n",
      "\n",
      "       Total Data Volume (Bytes)  YouTube Download (Bytes)  \\\n",
      "count               1.068560e+05              1.068560e+05   \n",
      "mean                6.909621e+08              1.621461e+07   \n",
      "std                 4.910559e+08              1.232294e+07   \n",
      "min                 3.324901e+07              5.300000e+01   \n",
      "25%                 3.585499e+08              7.647143e+06   \n",
      "50%                 6.179231e+08              1.460547e+07   \n",
      "75%                 8.574351e+08              2.112900e+07   \n",
      "max                 8.846226e+09              2.378830e+08   \n",
      "\n",
      "       YouTube Upload (Bytes)  Netflix Download (Bytes)  \\\n",
      "count            1.068560e+05              1.068560e+05   \n",
      "mean             1.534379e+07              1.620639e+07   \n",
      "std              1.159870e+07              1.231717e+07   \n",
      "min              1.060000e+02              4.200000e+01   \n",
      "25%              7.246758e+06              7.593534e+06   \n",
      "50%              1.386731e+07              1.463991e+07   \n",
      "75%              1.997808e+07              2.113463e+07   \n",
      "max              2.150757e+08              1.994792e+08   \n",
      "\n",
      "       Netflix Upload (Bytes)  Gaming Download (Bytes)  Gaming Upload (Bytes)  \\\n",
      "count            1.068560e+05             1.068560e+05           1.068560e+05   \n",
      "mean             1.533194e+07             5.882158e+08           1.155326e+07   \n",
      "std              1.161060e+07             4.440290e+08           8.731469e+06   \n",
      "min              3.500000e+01             2.516000e+03           5.900000e+01   \n",
      "25%              7.206775e+06             2.793230e+08           5.445849e+06   \n",
      "50%              1.387814e+07             5.325190e+08           1.044654e+07   \n",
      "75%              2.000853e+07             7.669561e+08           1.508080e+07   \n",
      "max              2.032419e+08             7.622035e+09           1.547897e+08   \n",
      "\n",
      "       Other Download (Bytes)  Other Upload (Bytes)  \n",
      "count            1.068560e+05          1.068560e+05  \n",
      "mean             5.869916e+08          1.151716e+07  \n",
      "std              4.437790e+08          8.706879e+06  \n",
      "min              3.290000e+03          1.560000e+02  \n",
      "25%              2.767785e+08          5.461189e+06  \n",
      "50%              5.299489e+08          1.037673e+07  \n",
      "75%              7.653643e+08          1.502752e+07  \n",
      "max              8.025477e+09          1.529305e+08  \n"
     ]
    }
   ],
   "source": [
    "print(df.describe())"
   ]
  },
  {
   "cell_type": "code",
   "execution_count": 9,
   "metadata": {},
   "outputs": [],
   "source": [
    "categorical_cols = df.select_dtypes(include=['object']).columns\n",
    "for col in categorical_cols:\n",
    "    print(f\"{col} unique values:\\n\", df[col].unique())"
   ]
  },
  {
   "cell_type": "markdown",
   "metadata": {},
   "source": [
    "Step 2: Handle Missing Values and Outliers"
   ]
  },
  {
   "cell_type": "code",
   "execution_count": 12,
   "metadata": {},
   "outputs": [
    {
     "name": "stdout",
     "output_type": "stream",
     "text": [
      "MSISDN/Number                  0\n",
      "Number of xDR Sessions         0\n",
      "Total Session Duration (ms)    0\n",
      "Total Download (Bytes)         0\n",
      "Total Upload (Bytes)           0\n",
      "Total Data Volume (Bytes)      0\n",
      "YouTube Download (Bytes)       0\n",
      "YouTube Upload (Bytes)         0\n",
      "Netflix Download (Bytes)       0\n",
      "Netflix Upload (Bytes)         0\n",
      "Gaming Download (Bytes)        0\n",
      "Gaming Upload (Bytes)          0\n",
      "Other Download (Bytes)         0\n",
      "Other Upload (Bytes)           0\n",
      "dtype: int64\n"
     ]
    }
   ],
   "source": [
    "# Check for missing values\n",
    "print(df.isnull().sum())\n",
    "\n",
    "# Fill missing values with column means\n",
    "df.fillna(df.mean(), inplace=True)\n"
   ]
  },
  {
   "cell_type": "markdown",
   "metadata": {},
   "source": [
    "Step 3: Creating and Describing Variables\n"
   ]
  },
  {
   "cell_type": "code",
   "execution_count": 13,
   "metadata": {},
   "outputs": [
    {
     "name": "stdout",
     "output_type": "stream",
     "text": [
      "       Number of xDR Sessions  Total Session Duration (ms)    Total_Data\n",
      "count           106856.000000                106856.000000  1.068560e+05\n",
      "mean                 1.291390                116775.594461  6.210808e+08\n",
      "std                  0.537724                 68222.704749  3.365916e+08\n",
      "min                  0.000000                  7142.000000  3.324901e+07\n",
      "25%                  1.000000                 71308.000000  3.582423e+08\n",
      "50%                  1.000000                102740.000000  6.169743e+08\n",
      "75%                  1.389777                155542.000000  8.146677e+08\n",
      "max                  3.000000                324991.000000  1.649611e+09\n"
     ]
    }
   ],
   "source": [
    "# Create Total Data column (Total Download + Total Upload)\n",
    "df['Total_Data'] = df['Total Download (Bytes)'] + df['Total Upload (Bytes)']\n",
    "\n",
    "# Total Session Duration already exists as \"Total Session Duration (ms)\"\n",
    "# Describe key variables\n",
    "print(df[['Number of xDR Sessions', 'Total Session Duration (ms)', 'Total_Data']].describe())\n"
   ]
  },
  {
   "cell_type": "markdown",
   "metadata": {},
   "source": [
    "Step 4: Segmenting Users into Decile Classes"
   ]
  },
  {
   "cell_type": "code",
   "execution_count": 14,
   "metadata": {},
   "outputs": [
    {
     "name": "stdout",
     "output_type": "stream",
     "text": [
      "  Decile    Total_Data\n",
      "0      1  5.432887e+12\n",
      "1      2  6.046481e+12\n",
      "2      3  6.445154e+12\n",
      "3      4  6.031769e+12\n",
      "4      5  5.089029e+12\n",
      "5      6  6.311735e+12\n",
      "6      7  9.623668e+12\n",
      "7      8  4.849035e+12\n",
      "8      9  8.000972e+12\n",
      "9     10  8.535478e+12\n"
     ]
    },
    {
     "name": "stderr",
     "output_type": "stream",
     "text": [
      "C:\\Users\\HP EliteBook\\AppData\\Local\\Temp\\ipykernel_3588\\1304454119.py:5: FutureWarning: The default of observed=False is deprecated and will be changed to True in a future version of pandas. Pass observed=False to retain current behavior or observed=True to adopt the future default and silence this warning.\n",
      "  decile_data = df.groupby('Decile')['Total_Data'].sum().reset_index()\n"
     ]
    }
   ],
   "source": [
    "# Create deciles based on Total Session Duration\n",
    "df['Decile'] = pd.qcut(df['Total Session Duration (ms)'], 10, labels=range(1, 11))\n",
    "\n",
    "# Compute total data volume for each decile\n",
    "decile_data = df.groupby('Decile')['Total_Data'].sum().reset_index()\n",
    "print(decile_data)\n"
   ]
  },
  {
   "cell_type": "markdown",
   "metadata": {},
   "source": [
    "Step 5: Analyzing Basic Metrics"
   ]
  },
  {
   "cell_type": "code",
   "execution_count": 15,
   "metadata": {},
   "outputs": [
    {
     "name": "stdout",
     "output_type": "stream",
     "text": [
      "        Number of xDR Sessions  Total Session Duration (ms)    Total_Data\n",
      "mean                  1.291390                 1.167756e+05  6.210808e+08\n",
      "median                1.000000                 1.027400e+05  6.169743e+08\n",
      "std                   0.537724                 6.822270e+04  3.365916e+08\n",
      "var                   0.289147                 4.654337e+09  1.132939e+17\n"
     ]
    }
   ],
   "source": [
    "# Calculate basic metrics\n",
    "metrics = df[['Number of xDR Sessions', 'Total Session Duration (ms)', 'Total_Data']].agg(['mean', 'median', 'std', 'var'])\n",
    "print(metrics)\n"
   ]
  },
  {
   "cell_type": "markdown",
   "metadata": {},
   "source": [
    "Step 6: Non-Graphical Univariate Analysis\n"
   ]
  },
  {
   "cell_type": "code",
   "execution_count": 16,
   "metadata": {},
   "outputs": [
    {
     "name": "stdout",
     "output_type": "stream",
     "text": [
      "Range for Number of xDR Sessions: 3.0\n",
      "Range for Total Session Duration (ms): 317849.0\n",
      "Range for Total_Data: 1616362480.0\n"
     ]
    }
   ],
   "source": [
    "# Compute range for each quantitative variable\n",
    "quantitative_vars = ['Number of xDR Sessions', 'Total Session Duration (ms)', 'Total_Data']\n",
    "for col in quantitative_vars:\n",
    "    col_range = df[col].max() - df[col].min()\n",
    "    print(f\"Range for {col}: {col_range}\")\n"
   ]
  },
  {
   "cell_type": "markdown",
   "metadata": {},
   "source": []
  }
 ],
 "metadata": {
  "kernelspec": {
   "display_name": "base",
   "language": "python",
   "name": "python3"
  },
  "language_info": {
   "codemirror_mode": {
    "name": "ipython",
    "version": 3
   },
   "file_extension": ".py",
   "mimetype": "text/x-python",
   "name": "python",
   "nbconvert_exporter": "python",
   "pygments_lexer": "ipython3",
   "version": "3.12.7"
  }
 },
 "nbformat": 4,
 "nbformat_minor": 2
}
